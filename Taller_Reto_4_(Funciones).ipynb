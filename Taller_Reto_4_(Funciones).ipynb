{
  "nbformat": 4,
  "nbformat_minor": 0,
  "metadata": {
    "colab": {
      "name": "Taller-Reto 4 (Funciones).ipynb",
      "provenance": [],
      "include_colab_link": true
    },
    "kernelspec": {
      "name": "python3",
      "display_name": "Python 3"
    },
    "language_info": {
      "name": "python"
    }
  },
  "cells": [
    {
      "cell_type": "markdown",
      "metadata": {
        "id": "view-in-github",
        "colab_type": "text"
      },
      "source": [
        "<a href=\"https://colab.research.google.com/github/madvesper/Python-para-dummies/blob/main/Taller_Reto_4_(Funciones).ipynb\" target=\"_parent\"><img src=\"https://colab.research.google.com/assets/colab-badge.svg\" alt=\"Open In Colab\"/></a>"
      ]
    },
    {
      "cell_type": "markdown",
      "source": [
        "# Funciones"
      ],
      "metadata": {
        "id": "EMuhD1flFmFh"
      }
    },
    {
      "cell_type": "markdown",
      "source": [
        "Una función es un bloque de código con un nombre asociado, que recibe cero o más argumentos como entrada, sigue una secuencia de sentencias, la cuales ejecuta una operación deseada y devuelve un valor y/o realiza una tarea, este bloque puede ser llamados cuando se necesite."
      ],
      "metadata": {
        "id": "4I-Yn8dsFoTv"
      }
    },
    {
      "cell_type": "markdown",
      "source": [
        "## Ventajas\n",
        "\n",
        "*   Modularización: permite segmentar un programa complejo en una serie de partes o módulos más simples, facilitando así la programación y el depurado.\n",
        "*   Reutilización: permite reutilizar una misma función en distintos programas.\n"
      ],
      "metadata": {
        "id": "yioaYK_fF4MR"
      }
    },
    {
      "cell_type": "markdown",
      "source": [
        "## Funciones de python\n",
        "\n",
        "Docs: https://docs.python.org/3/library/functions.html"
      ],
      "metadata": {
        "id": "RSdMQm1RGHAi"
      }
    },
    {
      "cell_type": "markdown",
      "source": [
        "### print()\n",
        "Imprime en pantalla los argumentos."
      ],
      "metadata": {
        "id": "Cal8y829GopW"
      }
    },
    {
      "cell_type": "code",
      "source": [
        "nombre = \"Pepito\"\n",
        "print(\"Hola\", nombre, \"!\")\n",
        "print(f\"Hola {nombre} !\")\n",
        "print(\"Hola \" + nombre + \" !\")"
      ],
      "metadata": {
        "colab": {
          "base_uri": "https://localhost:8080/"
        },
        "id": "I6dfuCPWQ8hD",
        "outputId": "34ff2ac8-0a4b-4786-ab0d-a480dd4c2e96"
      },
      "execution_count": null,
      "outputs": [
        {
          "output_type": "stream",
          "name": "stdout",
          "text": [
            "Hola Pepito !\n",
            "Hola PEPITO !\n",
            "Hola Pepito !\n"
          ]
        }
      ]
    },
    {
      "cell_type": "markdown",
      "source": [
        "### len()\n",
        "Devuelve la longitud (el número de elementos) de un objeto. El argumento puede ser una secuencia (cadena, tupla o lista) o una correspondencia (diccionario)."
      ],
      "metadata": {
        "id": "B4KbvqxRGNzy"
      }
    },
    {
      "cell_type": "code",
      "execution_count": null,
      "metadata": {
        "colab": {
          "base_uri": "https://localhost:8080/"
        },
        "id": "PlIq5SO1D2Dn",
        "outputId": "019dc8b9-ac71-4405-f910-1c071bbab843"
      },
      "outputs": [
        {
          "output_type": "stream",
          "name": "stdout",
          "text": [
            "5\n",
            "7\n",
            "4\n",
            "11\n"
          ]
        }
      ],
      "source": [
        "animales = [\"Perro\", \"Gato\", \"León\", \"Pinguino\", \"Loro\"]\n",
        "numeros = (32, 1, 23, 42, 64, 64, 77)\n",
        "personas = {\"juan\": 18, \"pablo\": 17, \"laura\": 20, \"luis\": 19}\n",
        "texto = \"Hola Mundo!\"\n",
        "print(len(animales))\n",
        "print(len(numeros))\n",
        "print(len(personas))\n",
        "print(len(texto))"
      ]
    },
    {
      "cell_type": "markdown",
      "source": [
        "### type()\n",
        "Devuelve el tipo de object. El resultado es un objeto tipo. El módulo estándar types define nombres para todos los tipos internos."
      ],
      "metadata": {
        "id": "MMyDim93SNfU"
      }
    },
    {
      "cell_type": "code",
      "source": [
        "print(type(5))\n",
        "print(type(5.0))\n",
        "print(type(\"Hola\"))\n",
        "print(type([1,2,3]))\n",
        "print(type({1,2,3}))\n",
        "print(type({\"mora\": 1, \"fresa\": 2}))\n",
        "print(type((1,2,3)))"
      ],
      "metadata": {
        "colab": {
          "base_uri": "https://localhost:8080/"
        },
        "id": "swcsp_2aST2c",
        "outputId": "a56ade6c-8512-41d3-8c05-d247b0bb48cb"
      },
      "execution_count": null,
      "outputs": [
        {
          "output_type": "stream",
          "name": "stdout",
          "text": [
            "<class 'int'>\n",
            "<class 'float'>\n",
            "<class 'str'>\n",
            "<class 'list'>\n",
            "<class 'set'>\n",
            "<class 'dict'>\n",
            "<class 'tuple'>\n"
          ]
        }
      ]
    },
    {
      "cell_type": "code",
      "source": [
        "class MiClase:\n",
        "    pass\n",
        "\n",
        "mi_objeto = MiClase()\n",
        "print(type(mi_objeto))"
      ],
      "metadata": {
        "colab": {
          "base_uri": "https://localhost:8080/"
        },
        "id": "m2P99RDnSlgh",
        "outputId": "e15f9ab2-eaf7-4eb5-8d68-5355de255de2"
      },
      "execution_count": null,
      "outputs": [
        {
          "output_type": "stream",
          "name": "stdout",
          "text": [
            "<class '__main__.MiClase'>\n"
          ]
        }
      ]
    },
    {
      "cell_type": "code",
      "source": [
        "objetos = [(1,2,3), {\"pepito\": 10}, [\"a\", \"b\", \"c\"]]\n",
        "print(type(objetos))\n",
        "print(type(objetos[0]))\n",
        "print(type(objetos[1]))\n",
        "print(type(objetos[2]))"
      ],
      "metadata": {
        "colab": {
          "base_uri": "https://localhost:8080/"
        },
        "id": "t9JVFJ25JU6h",
        "outputId": "de3327df-0448-4751-9c90-735e4786da50"
      },
      "execution_count": null,
      "outputs": [
        {
          "output_type": "stream",
          "name": "stdout",
          "text": [
            "<class 'list'>\n",
            "<class 'tuple'>\n",
            "<class 'dict'>\n",
            "<class 'list'>\n"
          ]
        }
      ]
    },
    {
      "cell_type": "markdown",
      "source": [
        "### all()\n",
        "\n",
        "Devuelve True si todos los elementos del iterable son verdaderos (o si el iterable está vacío)."
      ],
      "metadata": {
        "id": "Nj1skQXsJ83C"
      }
    },
    {
      "cell_type": "code",
      "source": [
        "print(all([]))\n",
        "print(all((9,8,7)))\n",
        "print(all({}))\n",
        "print(all([True, True, False]))\n",
        "print(all({\"a\", \"b\", \"c\"}))\n",
        "print(all((1,2,3,4,0)))"
      ],
      "metadata": {
        "colab": {
          "base_uri": "https://localhost:8080/"
        },
        "id": "HavnupxGJRNq",
        "outputId": "84636fac-da7c-42e1-c733-04842b166c6d"
      },
      "execution_count": null,
      "outputs": [
        {
          "output_type": "stream",
          "name": "stdout",
          "text": [
            "True\n",
            "True\n",
            "True\n",
            "False\n",
            "True\n",
            "False\n"
          ]
        }
      ]
    },
    {
      "cell_type": "code",
      "source": [
        "print(True + True)\n",
        "print(False + False)\n",
        "print(False == 0)\n",
        "print(True == 1)"
      ],
      "metadata": {
        "colab": {
          "base_uri": "https://localhost:8080/"
        },
        "id": "bd3c8UGqKkch",
        "outputId": "d8098f34-24ec-4faf-e7cf-752ababc9b62"
      },
      "execution_count": null,
      "outputs": [
        {
          "output_type": "stream",
          "name": "stdout",
          "text": [
            "2\n",
            "0\n",
            "True\n",
            "True\n"
          ]
        }
      ]
    },
    {
      "cell_type": "markdown",
      "source": [
        "### any()\n",
        "Devuelve True si algún elemento del iterable es verdadero. Si el iterable está vacío, devuelve False."
      ],
      "metadata": {
        "id": "B-E8xJUwKw-C"
      }
    },
    {
      "cell_type": "code",
      "source": [
        "print(any([]))\n",
        "print(any((9,8,7)))\n",
        "print(any({}))\n",
        "print(any([True, True, False]))\n",
        "print(any({\"a\", \"b\", \"c\"}))\n",
        "print(any((1,2,3,4,0)))"
      ],
      "metadata": {
        "colab": {
          "base_uri": "https://localhost:8080/"
        },
        "id": "XPxWwqvmK5NX",
        "outputId": "5d5aaa6b-8e17-4314-b254-f7b69ddc0a7c"
      },
      "execution_count": null,
      "outputs": [
        {
          "output_type": "stream",
          "name": "stdout",
          "text": [
            "False\n",
            "True\n",
            "False\n",
            "True\n",
            "True\n",
            "True\n"
          ]
        }
      ]
    },
    {
      "cell_type": "markdown",
      "source": [
        "### enumerate()\n",
        "Devuelve un objeto de enumeración. iterable debe ser una secuencia, un iterador, o algún otro objeto que soporte la iteración.\n",
        "Devuelve una tupla que contiene un recuento (desde el inicio que por defecto es 0) y los valores obtenidos al iterar sobre iterable."
      ],
      "metadata": {
        "id": "ApqGJtDuMNCL"
      }
    },
    {
      "cell_type": "code",
      "source": [
        "datos = enumerate([\"a\", \"b\", \"c\", \"d\"])\n",
        "for indice, elemento in datos:\n",
        "    print(indice, elemento)"
      ],
      "metadata": {
        "colab": {
          "base_uri": "https://localhost:8080/"
        },
        "id": "BBxaHoQBMNm_",
        "outputId": "557218a7-82ec-4e19-ec0a-0e339ce83c2c"
      },
      "execution_count": null,
      "outputs": [
        {
          "output_type": "stream",
          "name": "stdout",
          "text": [
            "0 daniel\n",
            "1 luis\n",
            "2 laura\n"
          ]
        }
      ]
    },
    {
      "cell_type": "code",
      "source": [
        "datos = enumerate([\"a\", \"b\", \"c\", \"d\"], start=5)\n",
        "print(datos)\n",
        "for indice, elemento in datos:\n",
        "    print(indice, elemento)"
      ],
      "metadata": {
        "colab": {
          "base_uri": "https://localhost:8080/"
        },
        "id": "4YJWJp5sMvDj",
        "outputId": "9de88782-bf59-4895-e6f2-3ece09bba172"
      },
      "execution_count": null,
      "outputs": [
        {
          "output_type": "stream",
          "name": "stdout",
          "text": [
            "<enumerate object at 0x7fc1c2c27640>\n",
            "5 a\n",
            "6 b\n",
            "7 c\n",
            "8 d\n"
          ]
        }
      ]
    },
    {
      "cell_type": "code",
      "source": [
        "for indice, elemento in enumerate([\"a\", \"b\", \"c\", \"d\"], start=5):\n",
        "    print(indice, elemento)"
      ],
      "metadata": {
        "id": "ne4pySwANnrU"
      },
      "execution_count": null,
      "outputs": []
    },
    {
      "cell_type": "markdown",
      "source": [
        "### zip()\n",
        "Iterar sobre varios iterables en paralelo, produciendo tuplas con un elemento de cada uno."
      ],
      "metadata": {
        "id": "rUEgvIenM7Ei"
      }
    },
    {
      "cell_type": "code",
      "source": [
        "nombres = [\"Daniel\", \"Pedro\", \"Pepito\", \"Jose\", \"jorge\"]\n",
        "apellidos = [\"Santa\", \"Ramirez\", \"Mejía\", \"Blandón\"]\n",
        "nombres_completos = zip(nombres, apellidos)\n",
        "print(nombres_completos)\n",
        "for nombres in nombres_completos:\n",
        "    print(nombres)"
      ],
      "metadata": {
        "colab": {
          "base_uri": "https://localhost:8080/"
        },
        "id": "YUODP8mcM84q",
        "outputId": "2eb018f2-936e-4b71-919f-ca0ecdcc42dd"
      },
      "execution_count": null,
      "outputs": [
        {
          "output_type": "stream",
          "name": "stdout",
          "text": [
            "<zip object at 0x7fc1bac2eaa0>\n",
            "('Daniel', 'Santa')\n",
            "('Pedro', 'Ramirez')\n",
            "('Pepito', 'Mejía')\n",
            "('Jose', 'Blandón')\n"
          ]
        }
      ]
    },
    {
      "cell_type": "code",
      "source": [
        "nombres = [\"Daniel\", \"Pedro\", \"Pepito\", \"Jose\"]\n",
        "apellidos = [\"Santa\", \"Ramirez\", \"Mejía\", \"Blandón\"]\n",
        "for nombres in zip(nombres, apellidos):\n",
        "    print({nombres[0]: nombres[1]})"
      ],
      "metadata": {
        "colab": {
          "base_uri": "https://localhost:8080/"
        },
        "id": "Tx79uQ0hNdLp",
        "outputId": "cdd8bcbd-0a64-4898-cd40-3b3e9275a5ae"
      },
      "execution_count": null,
      "outputs": [
        {
          "output_type": "stream",
          "name": "stdout",
          "text": [
            "{'Daniel': 'Santa'}\n",
            "{'Pedro': 'Ramirez'}\n",
            "{'Pepito': 'Mejía'}\n",
            "{'Jose': 'Blandón'}\n"
          ]
        }
      ]
    },
    {
      "cell_type": "code",
      "source": [
        "nombres = [\"Daniel\", \"Pedro\", \"Pepito\", \"Jose\"]\n",
        "apellidos = [\"Santa\", \"Ramirez\", \"Mejía\", \"Blandón\"]\n",
        "for nombre, apellido in zip(nombres, apellidos):\n",
        "    print(nombre, apellido)"
      ],
      "metadata": {
        "colab": {
          "base_uri": "https://localhost:8080/"
        },
        "id": "EY1TeR-rNigG",
        "outputId": "2bdcc4fc-9220-4108-e319-386dfa51b637"
      },
      "execution_count": null,
      "outputs": [
        {
          "output_type": "stream",
          "name": "stdout",
          "text": [
            "Daniel Santa\n",
            "Pedro Ramirez\n",
            "Pepito Mejía\n",
            "Jose Blandón\n"
          ]
        }
      ]
    },
    {
      "cell_type": "code",
      "source": [
        "nombre, apellido = ('Daniel', 'Santa')\n",
        "print(nombre, apellido)"
      ],
      "metadata": {
        "colab": {
          "base_uri": "https://localhost:8080/"
        },
        "id": "nW1MQVf5LlBb",
        "outputId": "c0753237-1870-4e61-d141-3d9ea2b96367"
      },
      "execution_count": null,
      "outputs": [
        {
          "output_type": "stream",
          "name": "stdout",
          "text": [
            "Daniel Santa\n"
          ]
        }
      ]
    },
    {
      "cell_type": "markdown",
      "source": [
        "### range()\n",
        "El tipo range representa una secuencia inmutable de números y se utiliza comúnmente para hacer un bucle de un número específico de veces en los bucles for."
      ],
      "metadata": {
        "id": "kwEhsZGFP7dz"
      }
    },
    {
      "cell_type": "code",
      "source": [
        "mi_rango = range(0, 10, 3)\n",
        "print(mi_rango)\n",
        "print(type(mi_rango))\n",
        "for i in mi_rango:\n",
        "    print(i)"
      ],
      "metadata": {
        "colab": {
          "base_uri": "https://localhost:8080/"
        },
        "id": "9Ytc2x_rQFxf",
        "outputId": "d3b0b3e5-5bca-447b-d27c-6da39715be6b"
      },
      "execution_count": null,
      "outputs": [
        {
          "output_type": "stream",
          "name": "stdout",
          "text": [
            "range(0, 10, 3)\n",
            "<class 'range'>\n",
            "0\n",
            "3\n",
            "6\n",
            "9\n"
          ]
        }
      ]
    },
    {
      "cell_type": "markdown",
      "source": [
        "### id()\n",
        "Devuelve la \"identidad\" de un objeto. Se trata de un número entero que se garantiza que es único y constante para este objeto durante su vida. \n"
      ],
      "metadata": {
        "id": "9WrdXy3RO8zf"
      }
    },
    {
      "cell_type": "code",
      "source": [
        "print(id(0))\n",
        "print(id(1))\n",
        "print(id(2))\n",
        "print(id(10000))\n",
        "print(id(\"a\"))\n"
      ],
      "metadata": {
        "colab": {
          "base_uri": "https://localhost:8080/"
        },
        "id": "6pa-9L4APIZz",
        "outputId": "97cdfbc2-5f4f-4af8-abbc-d05b440a2c7c"
      },
      "execution_count": null,
      "outputs": [
        {
          "output_type": "stream",
          "name": "stdout",
          "text": [
            "11256032\n",
            "11256064\n",
            "11256096\n",
            "140470038659152\n",
            "140470579693232\n"
          ]
        }
      ]
    },
    {
      "cell_type": "code",
      "source": [
        "mi_lista = [1,2,3]\n",
        "mi_dict = {\"pera\": 2, \"mango\": 4}\n",
        "mi_set = {0,9,8,7}\n",
        "mi_tupla = (\"a\", \"b\", \"c\")\n",
        "print(id(mi_lista))\n",
        "print(id(mi_dict))\n",
        "print(id(mi_set))\n",
        "print(id(mi_tupla))"
      ],
      "metadata": {
        "colab": {
          "base_uri": "https://localhost:8080/"
        },
        "id": "na0bHiw-PR-L",
        "outputId": "85684103-ce0a-404a-f8ef-1dd5cba4a350"
      },
      "execution_count": null,
      "outputs": [
        {
          "output_type": "stream",
          "name": "stdout",
          "text": [
            "140470038459888\n",
            "140470038444304\n",
            "140470038569520\n",
            "140470039173712\n"
          ]
        }
      ]
    },
    {
      "cell_type": "code",
      "source": [
        "mi_lista = [1,2,3]\n",
        "nueva_lista = mi_lista\n",
        "\n",
        "nueva_lista.append(100)\n",
        "\n",
        "print(mi_lista, nueva_lista)"
      ],
      "metadata": {
        "colab": {
          "base_uri": "https://localhost:8080/"
        },
        "id": "2Jyo7JVCMv55",
        "outputId": "60dd37be-4ec2-43ec-90b4-23e09bded4da"
      },
      "execution_count": null,
      "outputs": [
        {
          "output_type": "stream",
          "name": "stdout",
          "text": [
            "[1, 2, 3, 100] [1, 2, 3, 100]\n"
          ]
        }
      ]
    },
    {
      "cell_type": "code",
      "source": [
        "print(id(mi_lista))\n",
        "print(id(nueva_lista))"
      ],
      "metadata": {
        "colab": {
          "base_uri": "https://localhost:8080/"
        },
        "id": "8TFLaND9M6UB",
        "outputId": "2de68189-69f4-4165-d81b-278ebeac4989"
      },
      "execution_count": null,
      "outputs": [
        {
          "output_type": "stream",
          "name": "stdout",
          "text": [
            "140470038433136\n",
            "140470038433136\n"
          ]
        }
      ]
    },
    {
      "cell_type": "markdown",
      "source": [
        "### isinstance()\n",
        "Devuelve True si el argumento objeto es una instancia del argumento classinfo, o de una subclase (directa, indirecta o virtual) del mismo. Si el objeto no es un objeto del tipo dado, la función siempre devuelve False."
      ],
      "metadata": {
        "id": "oCfwfwZaPrsX"
      }
    },
    {
      "cell_type": "code",
      "source": [
        "print(isinstance(5, int))\n",
        "print(isinstance(\"hola\", str))\n",
        "print(isinstance([1,2,3], list))\n",
        "print(isinstance(12.5, float))\n",
        "print(isinstance(5, float))\n",
        "print(isinstance({\"pepito\": \"perez\"}, set))"
      ],
      "metadata": {
        "colab": {
          "base_uri": "https://localhost:8080/"
        },
        "id": "pkGz2IwTQeEQ",
        "outputId": "8b356e00-6507-4895-93cd-fe96955ee56f"
      },
      "execution_count": null,
      "outputs": [
        {
          "output_type": "stream",
          "name": "stdout",
          "text": [
            "True\n",
            "True\n",
            "True\n",
            "True\n",
            "False\n",
            "False\n"
          ]
        }
      ]
    },
    {
      "cell_type": "markdown",
      "source": [
        "# Funciones propias\n",
        "```\n",
        "def nombre_funcion(argumentos):\n",
        "    logica\n",
        "    return variables\n",
        "```"
      ],
      "metadata": {
        "id": "7tFCrj6FRHhx"
      }
    },
    {
      "cell_type": "markdown",
      "source": [
        "## Argumentos\n",
        "\n",
        "Un argumento es un valor que se pasa a una función cuando es llamada. Puede ser una variable, un valor o un objeto que se pasa a una función o método como entrada. Se escriben cuando se llama a la función."
      ],
      "metadata": {
        "id": "MTS-OlMXTWRs"
      }
    },
    {
      "cell_type": "code",
      "source": [
        "def mi_funcion(mensaje):\n",
        "    return mensaje.upper()"
      ],
      "metadata": {
        "id": "0oQzUMiHRLbB"
      },
      "execution_count": null,
      "outputs": []
    },
    {
      "cell_type": "code",
      "source": [
        "texto = mi_funcion(\"hola mundo\")\n",
        "print(texto)"
      ],
      "metadata": {
        "colab": {
          "base_uri": "https://localhost:8080/"
        },
        "id": "bG7EDNZxReFp",
        "outputId": "553028fb-ece3-43af-f8bf-2e8a751b3608"
      },
      "execution_count": null,
      "outputs": [
        {
          "output_type": "stream",
          "name": "stdout",
          "text": [
            "HOLA MUNDO\n"
          ]
        }
      ]
    },
    {
      "cell_type": "code",
      "source": [
        "frutas = [\"manzana\", \"perA\", \"Lulo\", \"mORa\", \"fResA\"]"
      ],
      "metadata": {
        "id": "__oct6J1CGEk"
      },
      "execution_count": null,
      "outputs": []
    },
    {
      "cell_type": "code",
      "source": [
        "for fruta in frutas:\n",
        "    print(mi_funcion(fruta))"
      ],
      "metadata": {
        "colab": {
          "base_uri": "https://localhost:8080/"
        },
        "id": "IbUaB3lQCTkK",
        "outputId": "194d3bea-32f6-4e77-9794-8701393eddc6"
      },
      "execution_count": null,
      "outputs": [
        {
          "output_type": "stream",
          "name": "stdout",
          "text": [
            "MANZANA\n",
            "PERA\n",
            "LULO\n",
            "MORA\n",
            "FRESA\n"
          ]
        }
      ]
    },
    {
      "cell_type": "markdown",
      "source": [
        "### Typing\n",
        "docs: https://docs.python.org/3/library/typing.html"
      ],
      "metadata": {
        "id": "qoqBu11uTHBI"
      }
    },
    {
      "cell_type": "code",
      "source": [
        "def convertir_a_mayusculas(mensaje: str) -> str:\n",
        "    return mensaje.upper()"
      ],
      "metadata": {
        "id": "tcktY6IoSRd_"
      },
      "execution_count": null,
      "outputs": []
    },
    {
      "cell_type": "code",
      "source": [
        "texto = convertir_a_mayusculas(\"hola mun2\")\n",
        "print(texto)"
      ],
      "metadata": {
        "colab": {
          "base_uri": "https://localhost:8080/"
        },
        "id": "C892Bt51Sa0t",
        "outputId": "8e280a19-b4f7-4af0-cd66-8e9a5d69fda4"
      },
      "execution_count": null,
      "outputs": [
        {
          "output_type": "stream",
          "name": "stdout",
          "text": [
            "HOLA MUN2\n"
          ]
        }
      ]
    },
    {
      "cell_type": "code",
      "source": [
        "from typing import List\n",
        "\n",
        "def convertir_a_lista(mensaje: str) -> List[str]:\n",
        "    return list(mensaje)"
      ],
      "metadata": {
        "id": "0WoWVrGRS4nA"
      },
      "execution_count": null,
      "outputs": []
    },
    {
      "cell_type": "code",
      "source": [
        "texto_en_lista = convertir_a_lista(\"hola mundo\")\n",
        "print(texto_en_lista)"
      ],
      "metadata": {
        "colab": {
          "base_uri": "https://localhost:8080/"
        },
        "id": "AwXm_atFS_oT",
        "outputId": "417d1921-d3e4-476a-b288-a82bb1a69750"
      },
      "execution_count": null,
      "outputs": [
        {
          "output_type": "stream",
          "name": "stdout",
          "text": [
            "['h', 'o', 'l', 'a', ' ', 'm', 'u', 'n', 'd', 'o']\n"
          ]
        }
      ]
    },
    {
      "cell_type": "markdown",
      "source": [
        "## Tipos De Argumentos\n",
        "\n",
        "docs: https://docs.python.org/3/tutorial/controlflow.html#defining-functions\n",
        "\n",
        "https://levelup.gitconnected.com/5-types-of-arguments-in-python-function-definition-e0e2a2cafd29"
      ],
      "metadata": {
        "id": "p559xRrzCr6n"
      }
    },
    {
      "cell_type": "markdown",
      "source": [
        "### 1. Argumentos Por Defecto (Default Arguments):\n",
        "\n",
        "\n",
        "*   Los argumentos por defecto son valores que se proporcionan al definir las funciones.\n",
        "*   El operador de asignación = se utiliza para asignar un valor por defecto al argumento.\n",
        "*   Los argumentos por defecto se convierten en opcionales durante las llamadas a la función.\n",
        "*   Si proporcionamos un valor a los argumentos por defecto durante las llamadas a la función, éste anula el valor por defecto.\n",
        "*   La función puede tener cualquier número de argumentos por defecto.\n",
        "*   Los argumentos por defecto deben definirse después a los argumentos que no son por defecto.\n",
        "\n",
        "\n"
      ],
      "metadata": {
        "id": "QKQGWZYDDWd4"
      }
    },
    {
      "cell_type": "code",
      "source": [
        "def sumar(a, b=5, c=10):\n",
        "    return a + b + c"
      ],
      "metadata": {
        "id": "PlN9aYiED3Ha"
      },
      "execution_count": null,
      "outputs": []
    },
    {
      "cell_type": "code",
      "source": [
        "print(sumar(2))\n",
        "print(sumar(2, 3))\n",
        "print(sumar(1, 4, 6))"
      ],
      "metadata": {
        "colab": {
          "base_uri": "https://localhost:8080/"
        },
        "id": "LOcxOZTdEBb2",
        "outputId": "e81c7c93-d3db-4955-c299-d8e7455f38b0"
      },
      "execution_count": null,
      "outputs": [
        {
          "output_type": "stream",
          "name": "stdout",
          "text": [
            "17\n",
            "15\n",
            "11\n"
          ]
        }
      ]
    },
    {
      "cell_type": "code",
      "source": [
        "def sumar2(a, b=5, c):\n",
        "    return a + b + c"
      ],
      "metadata": {
        "id": "3vuIRjiDEOxx"
      },
      "execution_count": null,
      "outputs": []
    },
    {
      "cell_type": "markdown",
      "source": [
        "### 2. Argumentos De Palabras Clave (Keyword Arguments):\n",
        "\n",
        "\n",
        "Durante una llamada a una función, los valores pasados a través de los argumentos no necesitan estar en el orden de los parámetros en la definición de la función. Esto puede conseguirse mediante argumentos de palabra clave. Pero todos los argumentos de palabra clave deben coincidir con los parámetros de la definición de la función.\n",
        "\n",
        "\n"
      ],
      "metadata": {
        "id": "x90XD1d3Eaxs"
      }
    },
    {
      "cell_type": "code",
      "source": [
        "def sumar3(a, b=5, c=10):\n",
        "    return a + b + c"
      ],
      "metadata": {
        "id": "xLf7DW1qE0Dm"
      },
      "execution_count": null,
      "outputs": []
    },
    {
      "cell_type": "code",
      "source": [
        "print(sumar3(a=2))\n",
        "print(sumar3(2, c=3))\n",
        "print(sumar3(c=1, b=4, a=6))"
      ],
      "metadata": {
        "colab": {
          "base_uri": "https://localhost:8080/"
        },
        "id": "WSUPSBmDE2Cb",
        "outputId": "fcb001be-5c04-48bc-883a-73f0e82e262e"
      },
      "execution_count": null,
      "outputs": [
        {
          "output_type": "stream",
          "name": "stdout",
          "text": [
            "17\n",
            "10\n",
            "11\n"
          ]
        }
      ]
    },
    {
      "cell_type": "code",
      "source": [
        "def sumar4(a, b, c):\n",
        "    return a + b + c"
      ],
      "metadata": {
        "id": "xsFo_szYGiL-"
      },
      "execution_count": null,
      "outputs": []
    },
    {
      "cell_type": "code",
      "source": [
        "print(sumar4(a=2, 3, 4))"
      ],
      "metadata": {
        "colab": {
          "base_uri": "https://localhost:8080/",
          "height": 131
        },
        "id": "gmhFtTFUG8Ds",
        "outputId": "fd3ca5e4-b6b6-4ceb-9279-5571ff076dd0"
      },
      "execution_count": null,
      "outputs": [
        {
          "output_type": "error",
          "ename": "SyntaxError",
          "evalue": "ignored",
          "traceback": [
            "\u001b[0;36m  File \u001b[0;32m\"<ipython-input-34-59a25521f597>\"\u001b[0;36m, line \u001b[0;32m1\u001b[0m\n\u001b[0;31m    print(sumar4(a=2, 3, 4))\u001b[0m\n\u001b[0m                     ^\u001b[0m\n\u001b[0;31mSyntaxError\u001b[0m\u001b[0;31m:\u001b[0m positional argument follows keyword argument\n"
          ]
        }
      ]
    },
    {
      "cell_type": "code",
      "source": [
        "print(sumar4(2, 3, f=4))"
      ],
      "metadata": {
        "colab": {
          "base_uri": "https://localhost:8080/",
          "height": 166
        },
        "id": "GHQpjseWG8iw",
        "outputId": "859d5b95-7e8a-4432-e403-d167b79062b6"
      },
      "execution_count": null,
      "outputs": [
        {
          "output_type": "error",
          "ename": "TypeError",
          "evalue": "ignored",
          "traceback": [
            "\u001b[0;31m---------------------------------------------------------------------------\u001b[0m",
            "\u001b[0;31mTypeError\u001b[0m                                 Traceback (most recent call last)",
            "\u001b[0;32m<ipython-input-35-108edf38da2f>\u001b[0m in \u001b[0;36m<module>\u001b[0;34m()\u001b[0m\n\u001b[0;32m----> 1\u001b[0;31m \u001b[0mprint\u001b[0m\u001b[0;34m(\u001b[0m\u001b[0msumar4\u001b[0m\u001b[0;34m(\u001b[0m\u001b[0;36m2\u001b[0m\u001b[0;34m,\u001b[0m \u001b[0;36m3\u001b[0m\u001b[0;34m,\u001b[0m \u001b[0mf\u001b[0m\u001b[0;34m=\u001b[0m\u001b[0;36m4\u001b[0m\u001b[0;34m)\u001b[0m\u001b[0;34m)\u001b[0m\u001b[0;34m\u001b[0m\u001b[0;34m\u001b[0m\u001b[0m\n\u001b[0m",
            "\u001b[0;31mTypeError\u001b[0m: sumar4() got an unexpected keyword argument 'f'"
          ]
        }
      ]
    },
    {
      "cell_type": "markdown",
      "source": [
        "### 3. Argumentos De Posición (Positional Arguments):\n",
        "\n",
        "\n",
        "Durante una llamada a una función, los valores pasados a través de los argumentos deben estar en el orden de los parámetros en la definición de la función. Esto se denomina argumentos posicionales.\n",
        "\n",
        "Los keyword arguments deben seguir únicamente a los argumentos posicionales.\n"
      ],
      "metadata": {
        "id": "2swSqCEQFJzi"
      }
    },
    {
      "cell_type": "code",
      "source": [
        "def sumar5(a, b, c):\n",
        "    return a + b + c"
      ],
      "metadata": {
        "id": "OtHTwr-DFe64"
      },
      "execution_count": null,
      "outputs": []
    },
    {
      "cell_type": "code",
      "source": [
        "print(sumar5(2, 10, 11))\n",
        "print(sumar5(2, 3, 8))\n",
        "print(sumar5(1, 4, 6))"
      ],
      "metadata": {
        "colab": {
          "base_uri": "https://localhost:8080/"
        },
        "id": "g9Z47oiTFrG8",
        "outputId": "4d093cd0-02c5-4353-bb8e-857965e4367e"
      },
      "execution_count": null,
      "outputs": [
        {
          "output_type": "stream",
          "name": "stdout",
          "text": [
            "23\n",
            "13\n",
            "11\n"
          ]
        }
      ]
    },
    {
      "cell_type": "markdown",
      "source": [
        "![1.png](data:image/png;base64,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)"
      ],
      "metadata": {
        "id": "2OLiIN8PGXQS"
      }
    },
    {
      "cell_type": "markdown",
      "source": [
        "### Parámetros Especiales\n",
        "\n",
        "![2.png](data:image/png;base64,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)"
      ],
      "metadata": {
        "id": "aA7ufT6lGZ81"
      }
    },
    {
      "cell_type": "markdown",
      "source": [
        "**NOTA:** La sentencia / solo funciona en python 3.8 o superior"
      ],
      "metadata": {
        "id": "HVTPN2S3J6yd"
      }
    },
    {
      "cell_type": "code",
      "source": [
        "import platform\n",
        "platform.python_version()"
      ],
      "metadata": {
        "colab": {
          "base_uri": "https://localhost:8080/",
          "height": 35
        },
        "id": "3321FlirKNhH",
        "outputId": "a0ac651b-cd9b-4557-cdb4-534c902733ce"
      },
      "execution_count": null,
      "outputs": [
        {
          "output_type": "execute_result",
          "data": {
            "text/plain": [
              "'3.7.13'"
            ],
            "application/vnd.google.colaboratory.intrinsic+json": {
              "type": "string"
            }
          },
          "metadata": {},
          "execution_count": 38
        }
      ]
    },
    {
      "cell_type": "code",
      "source": [
        "def sumar6(a, /, b, *, c):\n",
        "    return a + b + c"
      ],
      "metadata": {
        "colab": {
          "base_uri": "https://localhost:8080/",
          "height": 131
        },
        "id": "_E0KChxCIYtr",
        "outputId": "02f469ba-2b2d-4e45-dfb4-d61ff7301c90"
      },
      "execution_count": null,
      "outputs": [
        {
          "output_type": "error",
          "ename": "SyntaxError",
          "evalue": "ignored",
          "traceback": [
            "\u001b[0;36m  File \u001b[0;32m\"<ipython-input-39-0b56ec4bfdc4>\"\u001b[0;36m, line \u001b[0;32m1\u001b[0m\n\u001b[0;31m    def sumar6(a, /, b, *, c):\u001b[0m\n\u001b[0m                  ^\u001b[0m\n\u001b[0;31mSyntaxError\u001b[0m\u001b[0;31m:\u001b[0m invalid syntax\n"
          ]
        }
      ]
    },
    {
      "cell_type": "code",
      "source": [
        "def sumar6(a, b, *, c):\n",
        "    return a + b + c"
      ],
      "metadata": {
        "id": "pmP_8WIDKFUf"
      },
      "execution_count": null,
      "outputs": []
    },
    {
      "cell_type": "code",
      "source": [
        "sumar6(1,2,c=3)"
      ],
      "metadata": {
        "colab": {
          "base_uri": "https://localhost:8080/"
        },
        "id": "3OIMzZlqVf2Z",
        "outputId": "f2404e78-e83c-4c20-de10-66c0774cbf78"
      },
      "execution_count": null,
      "outputs": [
        {
          "output_type": "execute_result",
          "data": {
            "text/plain": [
              "6"
            ]
          },
          "metadata": {},
          "execution_count": 43
        }
      ]
    },
    {
      "cell_type": "code",
      "source": [
        "print(sumar6(2, 10, c=11))\n",
        "print(sumar6(2, b=3, c=8))\n",
        "print(sumar6(1, 4, c=6))"
      ],
      "metadata": {
        "colab": {
          "base_uri": "https://localhost:8080/"
        },
        "id": "sWAaBONhIfAN",
        "outputId": "66b6d2fe-6f2f-4e0d-ff5c-50b0a5321495"
      },
      "execution_count": null,
      "outputs": [
        {
          "output_type": "stream",
          "name": "stdout",
          "text": [
            "23\n",
            "13\n",
            "11\n"
          ]
        }
      ]
    },
    {
      "cell_type": "markdown",
      "source": [
        "## Return\n",
        "\n",
        "La sentencia return de Python es una sentencia especial que se puede utilizar dentro de una función o método para devolver el resultado de la función a quien la llama. Una sentencia return consiste en la palabra clave return seguida de un valor de retorno opcional.\n",
        "\n",
        "\n",
        "Puede omitir el valor de retorno de una función y utilizar un retorno solo (sin valor). También puede omitir toda la sentencia return. En ambos casos, el valor de retorno será None.\n",
        "\n",
        "docs: https://realpython.com/python-return-statement"
      ],
      "metadata": {
        "id": "c3FWqpj9K0X6"
      }
    },
    {
      "cell_type": "code",
      "source": [
        "def return_12():\n",
        "    return 12\n",
        "\n",
        "print(return_12())\n",
        "print(return_12() * 5)\n",
        "print(return_12() - 3)"
      ],
      "metadata": {
        "colab": {
          "base_uri": "https://localhost:8080/"
        },
        "id": "dI2vnd_vK-gz",
        "outputId": "6d38be14-ef76-4196-d4a2-aa6e5ffdf1fd"
      },
      "execution_count": null,
      "outputs": [
        {
          "output_type": "stream",
          "name": "stdout",
          "text": [
            "12\n",
            "60\n",
            "9\n"
          ]
        }
      ]
    },
    {
      "cell_type": "code",
      "source": [
        "def sin_return():\n",
        "    pass\n",
        "\n",
        "def sin_return2():\n",
        "    return\n",
        "\n",
        "print(sin_return())\n",
        "print(sin_return2())"
      ],
      "metadata": {
        "colab": {
          "base_uri": "https://localhost:8080/"
        },
        "id": "iDq8dpFrLE_y",
        "outputId": "f48f380d-bf6e-4485-f47f-b9374b2a27aa"
      },
      "execution_count": null,
      "outputs": [
        {
          "output_type": "stream",
          "name": "stdout",
          "text": [
            "None\n",
            "None\n"
          ]
        }
      ]
    },
    {
      "cell_type": "code",
      "source": [
        "from typing import List\n",
        "\n",
        "def numeros_pares(numeros: List[int]) -> List[int]:\n",
        "    pares = []\n",
        "    for num in numeros:\n",
        "        if num % 2 == 0:\n",
        "            pares.append(num)\n",
        "    return pares"
      ],
      "metadata": {
        "id": "LNUl-ntsLw5m"
      },
      "execution_count": null,
      "outputs": []
    },
    {
      "cell_type": "code",
      "source": [
        "mi_lista = list(range(0, 100))\n",
        "mis_pares = numeros_pares(mi_lista)\n",
        "print(mis_pares)"
      ],
      "metadata": {
        "colab": {
          "base_uri": "https://localhost:8080/"
        },
        "id": "e8gB8MAWMGPL",
        "outputId": "332337a3-436c-43d9-9a93-8a1431842d87"
      },
      "execution_count": null,
      "outputs": [
        {
          "output_type": "stream",
          "name": "stdout",
          "text": [
            "[0, 2, 4, 6, 8, 10, 12, 14, 16, 18, 20, 22, 24, 26, 28, 30, 32, 34, 36, 38, 40, 42, 44, 46, 48, 50, 52, 54, 56, 58, 60, 62, 64, 66, 68, 70, 72, 74, 76, 78, 80, 82, 84, 86, 88, 90, 92, 94, 96, 98]\n"
          ]
        }
      ]
    },
    {
      "cell_type": "code",
      "source": [
        "def promedio(datos):\n",
        "    return sum(datos)/len(datos)"
      ],
      "metadata": {
        "id": "xrEs7WxoMZ1I"
      },
      "execution_count": null,
      "outputs": []
    },
    {
      "cell_type": "code",
      "source": [
        "nums = list(range(0, 101))\n",
        "print(nums)\n",
        "print(promedio(nums))"
      ],
      "metadata": {
        "colab": {
          "base_uri": "https://localhost:8080/"
        },
        "id": "27A_T4J1MkNn",
        "outputId": "e7d83a1a-ac68-41db-8a43-1be4e7d7363a"
      },
      "execution_count": null,
      "outputs": [
        {
          "output_type": "stream",
          "name": "stdout",
          "text": [
            "[0, 1, 2, 3, 4, 5, 6, 7, 8, 9, 10, 11, 12, 13, 14, 15, 16, 17, 18, 19, 20, 21, 22, 23, 24, 25, 26, 27, 28, 29, 30, 31, 32, 33, 34, 35, 36, 37, 38, 39, 40, 41, 42, 43, 44, 45, 46, 47, 48, 49, 50, 51, 52, 53, 54, 55, 56, 57, 58, 59, 60, 61, 62, 63, 64, 65, 66, 67, 68, 69, 70, 71, 72, 73, 74, 75, 76, 77, 78, 79, 80, 81, 82, 83, 84, 85, 86, 87, 88, 89, 90, 91, 92, 93, 94, 95, 96, 97, 98, 99, 100]\n",
            "50.0\n"
          ]
        }
      ]
    },
    {
      "cell_type": "code",
      "source": [
        "import statistics as st\n",
        "\n",
        "def calculos(datos):\n",
        "    return (st.mean(datos), st.median(datos), st.mode(datos))"
      ],
      "metadata": {
        "id": "mQIzqoSvN7Ks"
      },
      "execution_count": null,
      "outputs": []
    },
    {
      "cell_type": "code",
      "source": [
        "mi_lista = [10, 3, 2, 4, 7, 9, 3, 9, 8, 6, 7, 3]\n",
        "media, mediana, moda = calculos(mi_lista)\n",
        "print(f\"Media: {media}\")\n",
        "print(f\"Mediana: {mediana}\")\n",
        "print(f\"Moda: {moda}\")"
      ],
      "metadata": {
        "colab": {
          "base_uri": "https://localhost:8080/"
        },
        "id": "tIBvXY3XN_6f",
        "outputId": "f1d1b51c-4a83-4b8c-b03d-ff98c8a08bf2"
      },
      "execution_count": null,
      "outputs": [
        {
          "output_type": "stream",
          "name": "stdout",
          "text": [
            "Media: 5.916666666666667\n",
            "Mediana: 6.5\n",
            "Moda: 3\n"
          ]
        }
      ]
    },
    {
      "cell_type": "code",
      "source": [
        "def mi_absoluto(numero):\n",
        "    if numero > 0:\n",
        "        return numero\n",
        "    elif numero < 0:\n",
        "        return -1 * numero"
      ],
      "metadata": {
        "id": "VC5UbcgTO0EU"
      },
      "execution_count": null,
      "outputs": []
    },
    {
      "cell_type": "code",
      "source": [
        "print(mi_absoluto(23))\n",
        "print(mi_absoluto(-12))\n",
        "print(mi_absoluto(0))"
      ],
      "metadata": {
        "colab": {
          "base_uri": "https://localhost:8080/"
        },
        "id": "WxG_LFpTO7nz",
        "outputId": "54c059ac-08df-498c-9b32-163103f95c2c"
      },
      "execution_count": null,
      "outputs": [
        {
          "output_type": "stream",
          "name": "stdout",
          "text": [
            "23\n",
            "12\n",
            "None\n"
          ]
        }
      ]
    },
    {
      "cell_type": "code",
      "source": [
        "def mi_absoluto2(numero):\n",
        "    if numero < 0:\n",
        "        return -1 * numero\n",
        "    return numero"
      ],
      "metadata": {
        "id": "Ik_O-bewPTuV"
      },
      "execution_count": null,
      "outputs": []
    },
    {
      "cell_type": "code",
      "source": [
        "print(mi_absoluto2(23))\n",
        "print(mi_absoluto2(-12))\n",
        "print(mi_absoluto2(0))"
      ],
      "metadata": {
        "colab": {
          "base_uri": "https://localhost:8080/"
        },
        "id": "P2YbJT1oPXKp",
        "outputId": "30a30796-2e18-4126-b9e3-f965fc5fcd09"
      },
      "execution_count": null,
      "outputs": [
        {
          "output_type": "stream",
          "name": "stdout",
          "text": [
            "23\n",
            "12\n",
            "0\n"
          ]
        }
      ]
    },
    {
      "cell_type": "code",
      "source": [
        "def codigo_muerto():\n",
        "    return(\"Hola\")\n",
        "    print(\"Esto es código muerto\")\n",
        "\n",
        "print(codigo_muerto())"
      ],
      "metadata": {
        "colab": {
          "base_uri": "https://localhost:8080/"
        },
        "id": "qbe6tjrAPfsW",
        "outputId": "63c1b7e5-5e30-4d2f-d0f7-20d56fc92321"
      },
      "execution_count": null,
      "outputs": [
        {
          "output_type": "stream",
          "name": "stdout",
          "text": [
            "Hola\n"
          ]
        }
      ]
    },
    {
      "cell_type": "markdown",
      "source": [
        "# Ejercicios\n",
        "\n",
        "Escribir un programa que reciba una lista de mensajes, retornar las palabras más largas que un n (número entero) y que diga si esas palabras largas son palíndromos o no.\n",
        "\n",
        "```python\n",
        "ENTRADA:\n",
        "    mensajes = [\n",
        "        \"existe algo mucho mas escaso, fino y raro que el talento. es el talento de reconocer a los talentosos\",\n",
        "        \"nos sometemos a la ley interna y hacemos los sacrificios correspondientes\",\n",
        "        \"mas oro ha sido extraido de los pensamientos de los hombres, que el que se ha sacado de la tierra\",\n",
        "    ]\n",
        "    n = 8\n",
        "SALIDA:\n",
        "    [\n",
        "        ('reconocer', True), \n",
        "        ('talentosos', False), \n",
        "        ('sometemos', True), \n",
        "        ('sacrificios', False), \n",
        "        ('correspondientes', False), \n",
        "        ('pensamientos', False)\n",
        "    ]\n",
        "```"
      ],
      "metadata": {
        "id": "pEwO6nFF7YZR"
      }
    },
    {
      "cell_type": "code",
      "source": [
        "from typing import List, Tuple\n",
        "\n",
        "def chequear_mensajes(\n",
        "    mensajes: List[str], max_longitud: int = 5\n",
        ") -> List[Tuple[str, bool]]:\n",
        "    resultado = []\n",
        "    for mensaje in mensajes:\n",
        "        pl = palabras_mas_largas(mensaje, max_longitud)\n",
        "        for palabra in pl:\n",
        "            pal = es_palindromo(palabra)\n",
        "            resultado.append((palabra, pal))\n",
        "    return resultado\n",
        "\n",
        "def es_palindromo(palabra: str) -> bool:\n",
        "    return palabra == palabra[::-1]\n",
        "\n",
        "def palabras_mas_largas(mensaje: str, max_longitud: int) -> List[str]:\n",
        "    palabras_largas = []\n",
        "    for palabra in mensaje.split():\n",
        "        if len(palabra) > max_longitud:\n",
        "            palabras_largas.append(palabra)\n",
        "    return palabras_largas\n"
      ],
      "metadata": {
        "id": "x31rDmgo9l6K"
      },
      "execution_count": null,
      "outputs": []
    },
    {
      "cell_type": "code",
      "source": [
        "mensajes = [\n",
        "        \"existe algo mucho mas escaso fino y raro que el talento es el talento de reconocer a los talentosos\",\n",
        "        \"nos sometemos a la ley interna y hacemos los sacrificios correspondientes\",\n",
        "        \"mas oro ha sido extraido de los pensamientos de los hombres que el que se ha sacado de la tierra\",\n",
        "    ]\n",
        "n = 2"
      ],
      "metadata": {
        "id": "upA782Aw_zHi"
      },
      "execution_count": null,
      "outputs": []
    },
    {
      "cell_type": "code",
      "source": [
        "res = chequear_mensajes(mensajes, n)\n",
        "for palabra, pa in res:\n",
        "    print(f\"{palabra:>20} ---> {pa:>0}\")"
      ],
      "metadata": {
        "colab": {
          "base_uri": "https://localhost:8080/"
        },
        "id": "t9TUqNvbfY95",
        "outputId": "496eb020-82f8-4642-811d-6556c442370b"
      },
      "execution_count": null,
      "outputs": [
        {
          "output_type": "stream",
          "name": "stdout",
          "text": [
            "              existe ---> 0\n",
            "                algo ---> 0\n",
            "               mucho ---> 0\n",
            "                 mas ---> 0\n",
            "              escaso ---> 0\n",
            "                fino ---> 0\n",
            "                raro ---> 0\n",
            "                 que ---> 0\n",
            "             talento ---> 0\n",
            "             talento ---> 0\n",
            "           reconocer ---> 1\n",
            "                 los ---> 0\n",
            "          talentosos ---> 0\n",
            "                 nos ---> 0\n",
            "           sometemos ---> 1\n",
            "                 ley ---> 0\n",
            "             interna ---> 0\n",
            "             hacemos ---> 0\n",
            "                 los ---> 0\n",
            "         sacrificios ---> 0\n",
            "    correspondientes ---> 0\n",
            "                 mas ---> 0\n",
            "                 oro ---> 1\n",
            "                sido ---> 0\n",
            "            extraido ---> 0\n",
            "                 los ---> 0\n",
            "        pensamientos ---> 0\n",
            "                 los ---> 0\n",
            "             hombres ---> 0\n",
            "                 que ---> 0\n",
            "                 que ---> 0\n",
            "              sacado ---> 0\n",
            "              tierra ---> 0\n"
          ]
        }
      ]
    }
  ]
}