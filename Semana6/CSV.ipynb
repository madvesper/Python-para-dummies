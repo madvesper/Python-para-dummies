{
  "nbformat": 4,
  "nbformat_minor": 0,
  "metadata": {
    "colab": {
      "name": "2R-CSV.ipynb",
      "provenance": []
    },
    "kernelspec": {
      "name": "python3",
      "display_name": "Python 3"
    },
    "language_info": {
      "name": "python"
    }
  },
  "cells": [
    {
      "cell_type": "markdown",
      "source": [
        "**Ejecuta esta línea para cargar los archivos necesarios para el notebook**"
      ],
      "metadata": {
        "id": "MAMSLln3YZt9"
      }
    },
    {
      "cell_type": "code",
      "source": [
        "!wget https://raw.githubusercontent.com/cosmolejo/dataRepo/master/starwars_characters.csv"
      ],
      "metadata": {
        "colab": {
          "base_uri": "https://localhost:8080/"
        },
        "id": "uwIsQuJSYaCI",
        "outputId": "e1e118bb-605b-415b-ab80-2e6ca199ed40"
      },
      "execution_count": null,
      "outputs": [
        {
          "output_type": "stream",
          "name": "stdout",
          "text": [
            "--2022-03-30 03:52:28--  https://raw.githubusercontent.com/cosmolejo/dataRepo/master/starwars_characters.csv\n",
            "Resolving raw.githubusercontent.com (raw.githubusercontent.com)... 185.199.108.133, 185.199.111.133, 185.199.109.133, ...\n",
            "Connecting to raw.githubusercontent.com (raw.githubusercontent.com)|185.199.108.133|:443... connected.\n",
            "HTTP request sent, awaiting response... 200 OK\n",
            "Length: 5462 (5.3K) [text/plain]\n",
            "Saving to: ‘starwars_characters.csv’\n",
            "\n",
            "starwars_characters 100%[===================>]   5.33K  --.-KB/s    in 0s      \n",
            "\n",
            "2022-03-30 03:52:30 (38.1 MB/s) - ‘starwars_characters.csv’ saved [5462/5462]\n",
            "\n"
          ]
        }
      ]
    },
    {
      "cell_type": "markdown",
      "source": [
        "# Manejo de archivos 3\n",
        "\n",
        "Veamos el segundo tipo de archivo que nos falta en esta sección, los archivos ***CSV***"
      ],
      "metadata": {
        "id": "vwEk85VrZQ0Y"
      }
    },
    {
      "cell_type": "markdown",
      "source": [
        "## Archivos CSV\n",
        "Un archivo CSV (valores separados por comas) es un archivo de texto que tiene un formato específico que permite guardar los datos en un formato de tabla estructurada. \n",
        "\n",
        "* Como su nombre lo dice, cada dato está separado por comas.\n",
        "* Por convención, se usa la primera línea como cabecera del archivo, es decir, en la primera línea se guarda el nombre de cada una de las columnas para poder identificarlas.\n",
        "* Cada línea es un registro independiente, es decir, que representa un objeto único de datos implícitamente estructurados en una tabla.\n",
        "* Si en algún registro falta algún dato, se debe dejar el campo vacío entre las dos comas que lo rodearían.\n",
        "\n",
        "```\n",
        "nombre,edad,sexo\n",
        "'Hugo',35,'M'\n",
        "'Luisa',,'F'\n",
        "'Paco',24,'M'\n",
        "```\n",
        "\n"
      ],
      "metadata": {
        "id": "znKKHqb4apfP"
      }
    },
    {
      "cell_type": "markdown",
      "source": [
        "## Lectura de archivos \n",
        "Si bien este tipo de archivos se puede leer sin problemas con las funciones nativas de Python, usando la función `split(',')` para que separen cada línea por las comas. Python también cuenta con una librería que simplifica  el proceso de lectura y escritura.\n",
        "\n",
        "Empecemos por importar dicha librería.\n"
      ],
      "metadata": {
        "id": "bfVA_k73degx"
      }
    },
    {
      "cell_type": "code",
      "execution_count": null,
      "metadata": {
        "id": "uxuLUsRiWTv_"
      },
      "outputs": [],
      "source": [
        "import csv"
      ]
    },
    {
      "cell_type": "markdown",
      "source": [
        "Luego, abrimos el archivo normalmente con la sentencia `with` y en su interior, leeremos el archivo con la función `reader` de la librería.  "
      ],
      "metadata": {
        "id": "cD6Ouy4jpW5f"
      }
    },
    {
      "cell_type": "code",
      "source": [
        "cabecera = []\n",
        "registros = []\n",
        "with open('starwars_characters.csv', 'r') as csvfile:\n",
        "    lector = csv.reader(csvfile)\n",
        "\n",
        "    #para sacar la cabecera usamos la función next\n",
        "    cabecera = next(lector)\n",
        "\n",
        "    # extraemos cada registro con un ciclo for\n",
        "    for fila in lector:\n",
        "        registros.append(fila)\n",
        "    \n",
        "    print('total de registros encontrados', lector.line_num) \n",
        "\n",
        "print('cabecera: ', cabecera)\n",
        "print('primeros 5 registros')\n",
        "for i in range(5):\n",
        "    print(registros[i])\n",
        "\n"
      ],
      "metadata": {
        "colab": {
          "base_uri": "https://localhost:8080/"
        },
        "id": "TCx_Vs2DqAas",
        "outputId": "bda378a9-e06a-4bff-fcb6-444821f52304"
      },
      "execution_count": null,
      "outputs": [
        {
          "output_type": "stream",
          "name": "stdout",
          "text": [
            "total de registros encontrados 88\n",
            "cabecera:  ['name', 'height', 'mass', 'hair_color', 'skin_color', 'eye_color', 'birth_year', 'gender', 'homeworld', 'species']\n",
            "primeros 5 registros\n",
            "['Luke Skywalker', '172', '77', 'blond', 'fair', 'blue', '19BBY', 'male', 'Tatooine', 'Human']\n",
            "['C-3PO', '167', '75', 'NA', 'gold', 'yellow', '112BBY', 'NA', 'Tatooine', 'Droid']\n",
            "['R2-D2', '96', '32', 'NA', 'white, blue', 'red', '33BBY', 'NA', 'Naboo', 'Droid']\n",
            "['Darth Vader', '202', '136', 'none', 'white', 'yellow', '41.9BBY', 'male', 'Tatooine', 'Human']\n",
            "['Leia Organa', '150', '49', 'brown', 'light', 'brown', '19BBY', 'female', 'Alderaan', 'Human']\n"
          ]
        }
      ]
    },
    {
      "cell_type": "markdown",
      "source": [
        "La función `next` nos permite solicitarle a objetos especiales de Python como `range` o el objeto creado por `csv.reader`, llamados iterables que nos devuelvan la fila actual y avanzar el iterable a la siguiente fila, descartando (por decirlo de algún modo) la fila que nos entregó. Como la primera fila de nuestro archivo csv contiene las cabeceras (o nombres de campos) las guardamos en una lista llamada `cabecera`. Estos iterables son un tema de programación más avanzado, por lo cual no entraremos demasiado en detalles al respecto, ya que se sale del alcance de nuestro curso.\n",
        "\n",
        "Luego de usar `next` la lista de filas almacenada en `lector` ya no tiene la cabecera, por lo que podemos usar un simple ciclo `for` para guardar en una lista cada registro por separado. Como vemos en el ejemplo, el resultado de este proceso es una lista de listas, por lo que acceder a cualquiera de los datos es tan simple como usar la notación de doble corchetes `[ ][ ]`\n",
        "\n",
        "El iterable `lector` almacena el número de registros que leyó durante el ciclo en la variable `line_num` a la cual accedemos con `lector.line_num` siempre que la necesitemos."
      ],
      "metadata": {
        "id": "y_Jyg6pUrCzd"
      }
    },
    {
      "cell_type": "markdown",
      "source": [
        "## Escritura a un archivo CSV\n",
        "\n",
        "Para escribir un archivo en csv, creamos un objeto con la función `writer` de la librería csv, el cual se encargará de almacenar los registros que le entreguemos con `writerow` o `writerows` de forma ordenada.\n",
        "\n",
        "> `writerow` nos permite escribir un solo registro a la vez, mientras que `writerows` nos permite entregarle una lista con todos los registros, acelerando el proceso de escritura.\n",
        "\n",
        "\n"
      ],
      "metadata": {
        "id": "7q4kRNDquw-G"
      }
    },
    {
      "cell_type": "code",
      "source": [
        "cabecera = ['Nombre', 'Apellido', 'Carrera', 'Semestre','Promedio']\n",
        "\n",
        "datos = [['Paco','Peralta','Psicología',8,4.0],\n",
        "         ['Gustavo','Lopez','Física',5,3.8],\n",
        "         ['Rosario','Márquez','Medicina',9,4.7],\n",
        "         ['Roberto','Florez','Ing. Sistemas',7,3.5]]\n",
        "\n",
        "with open('notas_universidad.csv','w') as csvfile:\n",
        "    escritor = csv.writer(csvfile)\n",
        "\n",
        "    #escritura de la cabecera\n",
        "    escritor.writerow(cabecera)\n",
        "    \n",
        "    #escritura de registros\n",
        "    escritor.writerows(datos)\n"
      ],
      "metadata": {
        "id": "CPuWWjJnzY9U"
      },
      "execution_count": null,
      "outputs": []
    },
    {
      "cell_type": "markdown",
      "source": [
        "Verifiquemos el archivo:"
      ],
      "metadata": {
        "id": "qusI7sIm0jaA"
      }
    },
    {
      "cell_type": "code",
      "source": [
        "with open('notas_universidad.csv','r') as salida:\n",
        "    print(salida.read())"
      ],
      "metadata": {
        "colab": {
          "base_uri": "https://localhost:8080/"
        },
        "id": "2YgbMf3H0laM",
        "outputId": "9c3b88de-12da-46c2-c439-dda480f65487"
      },
      "execution_count": null,
      "outputs": [
        {
          "output_type": "stream",
          "name": "stdout",
          "text": [
            "Nombre,Apellido,Carrera,Semestre,Promedio\n",
            "Paco,Peralta,Psicología,8,4.0\n",
            "Gustavo,Lopez,Física,5,3.8\n",
            "Rosario,Márquez,Medicina,9,4.7\n",
            "Roberto,Florez,Ing. Sistemas,7,3.5\n",
            "\n"
          ]
        }
      ]
    }
  ]
}