{
  "nbformat": 4,
  "nbformat_minor": 0,
  "metadata": {
    "colab": {
      "name": "Copia de 2R-Pruebas unitarias.ipynb",
      "provenance": [],
      "include_colab_link": true
    },
    "kernelspec": {
      "name": "python3",
      "display_name": "Python 3"
    },
    "language_info": {
      "name": "python"
    }
  },
  "cells": [
    {
      "cell_type": "markdown",
      "metadata": {
        "id": "view-in-github",
        "colab_type": "text"
      },
      "source": [
        "<a href=\"https://colab.research.google.com/github/madvesper/Python-para-dummies/blob/main/Copia_de_2R_Pruebas_unitarias.ipynb\" target=\"_parent\"><img src=\"https://colab.research.google.com/assets/colab-badge.svg\" alt=\"Open In Colab\"/></a>"
      ]
    },
    {
      "cell_type": "markdown",
      "source": [
        "#Pruebas Unitarias\n",
        "\n",
        "En la mayoría de los campos profesionales, los productos se prueban rigurosamente antes de comercializarse para garantizar la calidad y el funcionamiento previsto.\n",
        "\n",
        "Se prueban medicamentos, cosméticos, vehículos, teléfonos y computadoras portátiles para garantizar que brinden un cierto nivel de calidad prometido al consumidor. Debido al impacto y alcance del software en nuestra vida diaria, es importante probar nuestro software minuciosamente antes de lanzarlo a los usuarios para evitar problemas de uso.\n",
        "\n",
        "Hay diferentes métodos y técnicas de probar nuestro software, en esta sección aprenderemos una de las pruebas más fundamentales que se deben realizar a las aplicaciones, las pruebas unitarias."
      ],
      "metadata": {
        "id": "YEXblfsZa2kk"
      }
    },
    {
      "cell_type": "markdown",
      "source": [
        "## Pruebas unitarias frente a otras formas de prueba\n",
        "Existen diferentes formas de probar el software, principalmente agrupadas en pruebas funcionales y no funcionales.\n",
        "* **Pruebas no funcionales**: tiene como objetivo probar y verificar aspectos no funcionales del software, como la confiabilidad, la seguridad, la usabilidad y la escalabilidad.\n",
        "\n",
        "* **Pruebas funcionales**: esto implica probar nuestro software con los requisitos funcionales para garantizar que proporcione la funcionalidad requerida. Por ejemplo, podemos probar si nuestra plataforma de compras envía un correo electrónico al usuario después de realizar un pedido simulando este escenario y revisando el correo electrónico. \n",
        "\n",
        "Las pruebas unitarias se incluyen en las pruebas funcionales, este tipo de prueba se refiere a un método de prueba en el que un programa se divide en varios componentes (funciones) y cada unidad se prueba funcionalmente y por separado de otras funciones o unidades.\n",
        "\n",
        "Aquí, la unidad se refiere a la parte más pequeña del sistema que pueda realizar una sola función y se pueda probar. El objetivo de las pruebas unitarias es verificar que cada componente del sistema funcione según lo previsto, asegurando así que todo el sistema se ejecute apropiadamente y cumpla con los requisitos funcionales."
      ],
      "metadata": {
        "id": "-U2CG3vAb7by"
      }
    },
    {
      "cell_type": "markdown",
      "source": [
        "## El módulo `pytest`\n",
        "\n",
        "pytest es el marco de pruebas más popular para Python. Usando pytest podemos probar cualquier cosa, desde scripts básicos de python hasta bases de datos o interfaces de usuario. \n",
        "\n",
        "**Instalación**: Podemos instalar pytest desde PyPI usando el comando (Google colab ya la trae instalada)\n",
        "```\n",
        "pip install pytest\n",
        "```\n",
        "\n",
        "Pytest nos permite realizar distintos experimentos para garantizar que el comportamiento de las funciones que diseñemos es el esperado, para esto primero debemos analizar la sentencia `assert`"
      ],
      "metadata": {
        "id": "VlvG6YbldBPO"
      }
    },
    {
      "cell_type": "markdown",
      "source": [
        "### `assert`\n",
        "\n",
        "La sentencia `assert` nos permite verificar una condición lógica, cuando su resultado es verdadero, el programa continúa su ejecución, si por el contrario obtenemos un resultado falso, la sentencia generará una excepción de tipo `AssertionErrorException`, por lo tanto podríamos decir que esta sentencia nos permite \"garantizar\" que un programa siga un mismo comportamiento a la hora de ejecutar cualquier operación.\n",
        "\n",
        "Esta sentencia, nos permite construir con el módulo pytest experimentos donde esperemos una respuesta específica de una función y en caso contrario, marcar como fallida la prueba.\n",
        "\n",
        "\n",
        "\n"
      ],
      "metadata": {
        "id": "njZSl3f3eTRL"
      }
    },
    {
      "cell_type": "markdown",
      "source": [
        "## Sintaxis script de pruebas\n",
        "\n",
        "```python\n",
        "from modulo_funciones import *\n",
        "import pytest\n",
        "\n",
        "def test_prueba1():\n",
        "    assert condicion1\n",
        "\n",
        "def test_prueba2():\n",
        "    with pytest.raises(Excepcion):\n",
        "       func()  \n",
        "\n",
        "```\n",
        "\n",
        "* Es importante tener en cuenta que **obligatoriamente** cada función de prueba debe iniciar con la palabra `test` de lo contrario el sistema no la ejecutará. \n",
        "\n",
        "* Por buena práctica debemos separar nuestros algoritmos del script donde diseñemos las pruebas, por lo tanto, es necesario importar las funciones con `import` y el nombre del archivo que las contenga.\n",
        "\n",
        "* El nombre del script de las pruebas también **debe iniciar con la palabra test** de lo contrario pytest no lo reconocerá.\n",
        "\n",
        "* Si esperamos que una prueba genere una excepción, podemos indicarle este comportamiento a pytest con la instrucción `with pytest.raise(Excepcion)` donde debemos reemplazar `Excepcion` por el tipo específico de excepción que lanzará la función."
      ],
      "metadata": {
        "id": "tS8WdwWSftPh"
      }
    },
    {
      "cell_type": "markdown",
      "source": [
        "## Escritura y ejecución de bloques de código como scripts\n",
        "\n",
        "Google Colab nos permite convertir nuestros bloques de código en scripts independientes de Python. Para hacer esto, basta con añadir el siguiente comando en la primera línea del bloque:\n",
        "\n",
        "```\n",
        "%%writefile nombre_archivo.py \n",
        "```\n",
        "\n",
        "para llamar el script que guardamos, podemos usar el siguiente comando:\n",
        "```\n",
        "%run nombre_archivo\n",
        "```"
      ],
      "metadata": {
        "id": "NfGNhcxmidpY"
      }
    },
    {
      "cell_type": "code",
      "execution_count": null,
      "metadata": {
        "colab": {
          "base_uri": "https://localhost:8080/"
        },
        "id": "YUPX-onFawaU",
        "outputId": "3a5fe9f4-560c-4eed-b60c-9183c18ee342"
      },
      "outputs": [
        {
          "output_type": "stream",
          "name": "stdout",
          "text": [
            "Writing nombre_archivo.py\n"
          ]
        }
      ],
      "source": [
        "%%writefile nombre_archivo.py \n",
        "print('hola mundo')"
      ]
    },
    {
      "cell_type": "code",
      "source": [
        "%run nombre_archivo"
      ],
      "metadata": {
        "colab": {
          "base_uri": "https://localhost:8080/"
        },
        "id": "SN3EUUaDj2r5",
        "outputId": "94d735ce-be11-41ef-d70d-dfbfaa7c52cd"
      },
      "execution_count": null,
      "outputs": [
        {
          "output_type": "stream",
          "name": "stdout",
          "text": [
            "hola mundo\n"
          ]
        }
      ]
    },
    {
      "cell_type": "markdown",
      "source": [
        "## Ejecución de pruebas con pytest\n",
        "\n",
        "Antes de poder demostrar cómo se ejecuta una batería de pruebas unitarias dentro de pytest, debemos crear las funciones que probaremos. Diseñemos un programa que retorne el área de cualquier rectángulo y almacenémoslo en `rectangulo.py`. Usaremos la fórmula:\n",
        "\n",
        "$$Área = base \\times altura$$"
      ],
      "metadata": {
        "id": "oOXO9Ch-kixk"
      }
    },
    {
      "cell_type": "code",
      "source": [
        "%%writefile rectangulo.py\n",
        "\n",
        "def area_rectangulo(base,altura):\n",
        "    \"\"\"\n",
        "    Función que retorna el área de un rectángulo dados \n",
        "    su base y su altura\n",
        "    \"\"\"\n",
        "    return base*altura\n"
      ],
      "metadata": {
        "colab": {
          "base_uri": "https://localhost:8080/"
        },
        "id": "jfYaXW9Vlj2E",
        "outputId": "b00e6839-fd80-4471-dcf4-124c1484af9f"
      },
      "execution_count": null,
      "outputs": [
        {
          "output_type": "stream",
          "name": "stdout",
          "text": [
            "Overwriting rectangulo.py\n"
          ]
        }
      ]
    },
    {
      "cell_type": "markdown",
      "source": [
        "Ahora, creemos un script con los siguientes experimentos:\n",
        "* `area_rectangulo(2,2) == 4`\n",
        "* el área no puede ser negativa\n",
        "* solo se deben aceptar valores numéricos "
      ],
      "metadata": {
        "id": "EQXQFGHUnAai"
      }
    },
    {
      "cell_type": "code",
      "source": [
        "%%writefile test_rectangulo.py\n",
        "\n",
        "from rectangulo import *\n",
        "import pytest\n",
        "\n",
        "def test_area():\n",
        "    \"\"\"\n",
        "    comportamiento esperado:\n",
        "        área de rectángulo 2x2 = 4\n",
        "    \"\"\"\n",
        "    assert area_rectangulo(2,2) == 4\n",
        "\n",
        "def test_negativo():\n",
        "    \"\"\"\n",
        "    comportamiento esperado:\n",
        "        el área de cualquier figura no puede ser negativa \n",
        "    \"\"\"\n",
        "    with pytest.raises(ValueError):\n",
        "            area_rectangulo(2,-2)\n",
        "        \n",
        "    \n",
        "def test_numeros():\n",
        "    \"\"\"\n",
        "    comportamiento esperado:\n",
        "        la función no debe recibir datos que no sean números\n",
        "    \"\"\"\n",
        "    with pytest.raises(ValueError):\n",
        "        area_rectangulo('hola',4)\n",
        "       "
      ],
      "metadata": {
        "colab": {
          "base_uri": "https://localhost:8080/"
        },
        "id": "BmgUb7ldo9Dq",
        "outputId": "1b1a4aab-a41e-40c0-e83f-7af926491db0"
      },
      "execution_count": null,
      "outputs": [
        {
          "output_type": "stream",
          "name": "stdout",
          "text": [
            "Overwriting test_rectangulo.py\n"
          ]
        }
      ]
    },
    {
      "cell_type": "markdown",
      "source": [
        "Para ejecutar las pruebas, en un computador, de forma local, basta con ingresar a una consola en el directorio que contenga los script y ejecutar\n",
        "```\n",
        "pytest\n",
        "\n",
        "```\n",
        "En Google Colab, para indicarle al bloque de código que la instrucción no es de python si no directamente de la consola, añadimos un signo de admiración `!` al inicio.\n",
        "\n",
        "```\n",
        "!pytest\n",
        "```"
      ],
      "metadata": {
        "id": "ko8qj0CptX8w"
      }
    },
    {
      "cell_type": "code",
      "source": [
        "!pytest"
      ],
      "metadata": {
        "colab": {
          "base_uri": "https://localhost:8080/"
        },
        "id": "g6tu5vCXuK0z",
        "outputId": "72dc9793-ddae-4093-c50e-be68ec97f209"
      },
      "execution_count": null,
      "outputs": [
        {
          "output_type": "stream",
          "name": "stdout",
          "text": [
            "\u001b[1m============================= test session starts ==============================\u001b[0m\n",
            "platform linux -- Python 3.7.12, pytest-3.6.4, py-1.11.0, pluggy-0.7.1\n",
            "rootdir: /content, inifile:\n",
            "plugins: typeguard-2.7.1\n",
            "\u001b[1m\rcollecting 0 items                                                             \u001b[0m\u001b[1m\rcollecting 3 items                                                             \u001b[0m\u001b[1m\rcollected 3 items                                                              \u001b[0m\n",
            "\n",
            "test_rectangulo.py .FF\u001b[36m                                                   [100%]\u001b[0m\n",
            "\n",
            "=================================== FAILURES ===================================\n",
            "\u001b[31m\u001b[1m________________________________ test_negativo _________________________________\u001b[0m\n",
            "\n",
            "\u001b[1m    def test_negativo():\u001b[0m\n",
            "\u001b[1m        \"\"\"\u001b[0m\n",
            "\u001b[1m        comportamiento esperado:\u001b[0m\n",
            "\u001b[1m            el área de cualquier figura no puede ser negativa\u001b[0m\n",
            "\u001b[1m        \"\"\"\u001b[0m\n",
            "\u001b[1m        with pytest.raises(ValueError):\u001b[0m\n",
            "\u001b[1m>               area_rectangulo(2,-2)\u001b[0m\n",
            "\u001b[1m\u001b[31mE               Failed: DID NOT RAISE <class 'ValueError'>\u001b[0m\n",
            "\n",
            "\u001b[1m\u001b[31mtest_rectangulo.py\u001b[0m:18: Failed\n",
            "\u001b[31m\u001b[1m_________________________________ test_numeros _________________________________\u001b[0m\n",
            "\n",
            "\u001b[1m    def test_numeros():\u001b[0m\n",
            "\u001b[1m        \"\"\"\u001b[0m\n",
            "\u001b[1m        comportamiento esperado:\u001b[0m\n",
            "\u001b[1m            la función no debe recibir datos que no sean números\u001b[0m\n",
            "\u001b[1m        \"\"\"\u001b[0m\n",
            "\u001b[1m        with pytest.raises(ValueError):\u001b[0m\n",
            "\u001b[1m>           area_rectangulo('hola',4)\u001b[0m\n",
            "\u001b[1m\u001b[31mE           Failed: DID NOT RAISE <class 'ValueError'>\u001b[0m\n",
            "\n",
            "\u001b[1m\u001b[31mtest_rectangulo.py\u001b[0m:27: Failed\n",
            "\u001b[31m\u001b[1m====================== 2 failed, 1 passed in 0.03 seconds ======================\u001b[0m\n"
          ]
        }
      ]
    },
    {
      "cell_type": "markdown",
      "source": [
        "Como vemos en los resultados de la ejecución de la prueba, `test_negativo` falló debido a que al ingresar un valor negativo, no se lanzó una excepción. La prueba `test_numeros` falló porque no se lanzó una excepción al ingresar como argumento un string.\n",
        "\n",
        "Al inicio de la impresión vemos lo siguiente\n",
        "```\n",
        "test_rectangulo.py .FF                                                   [100%]\n",
        "```\n",
        "el punto `.` representa la primera prueba, un punto indica que el test pasó exitosamente, las dos F `FF` representan las dos pruebas fallidas y finalmente el `100%` nos indica que pytest pudo ejecutar todas las pruebas del script.\n",
        "\n",
        "Ahora, ¿cómo podemos corregir nuestra función para que las pruebas pasen correctamente?"
      ],
      "metadata": {
        "id": "BPk_dxYyv_J6"
      }
    },
    {
      "cell_type": "markdown",
      "source": [
        "* Para garantizar que un parámetro sea de un tipo de dato específico, podemos usar la función `isinstance`\n",
        "\n",
        "```python\n",
        "isinstance(variable, (tipo1,tipo2,...))\n",
        "```\n",
        "> El primer argumento de esta función es la variable que queremos comparar, el segundo argumento es un tipo de dato (`int`, `float`, `str`, etc) o una tupla que contenga dos o más de estos, si la variable es de alguno de los tipos que estamos comparando, la función retornará un `True`, en caso contrario, `False`.\n",
        "\n",
        "* Para asegurarnos que el área sea positiva, basta con garantizar que ni la base, ni la altura sean negativas.\n",
        "\n",
        "De este modo, nuestra nueva función será la siguiente."
      ],
      "metadata": {
        "id": "LK5Txu21xLLH"
      }
    },
    {
      "cell_type": "code",
      "source": [
        "%%writefile rectangulo.py\n",
        "\n",
        "def area_rectangulo(base,altura):\n",
        "    \"\"\"\n",
        "    Función que retorna el área de un rectángulo dados \n",
        "    su base y su altura\n",
        "    \"\"\"\n",
        "    if not isinstance(base,(int,float)):\n",
        "        raise ValueError('la base debe ser un número real')\n",
        "    if not isinstance(altura,(int,float)):\n",
        "        raise ValueError('la altura debe ser un número real')\n",
        "    if base <= 0 or altura <= 0:\n",
        "        raise ValueError('la base y la altura deben ser valores positivos')\n",
        "    return base*altura"
      ],
      "metadata": {
        "colab": {
          "base_uri": "https://localhost:8080/"
        },
        "id": "ZItu9c6cy51t",
        "outputId": "b1e41217-4d99-4158-f9be-ab598c982d0e"
      },
      "execution_count": null,
      "outputs": [
        {
          "output_type": "stream",
          "name": "stdout",
          "text": [
            "Overwriting rectangulo.py\n"
          ]
        }
      ]
    },
    {
      "cell_type": "markdown",
      "source": [
        "* La instrucción `raise` nos permite invocar una excepción a voluntad en cualquier línea del código, el texto entro los paréntesis es el mensaje que mostrará el error.\n",
        "\n",
        "Si lanzamos nuevamente la prueba:"
      ],
      "metadata": {
        "id": "-aPo8CSezg8M"
      }
    },
    {
      "cell_type": "code",
      "source": [
        "!pytest"
      ],
      "metadata": {
        "colab": {
          "base_uri": "https://localhost:8080/"
        },
        "id": "cyCM3uItzjy8",
        "outputId": "9865d3db-00d2-43d6-c3c9-f4038797af3e"
      },
      "execution_count": null,
      "outputs": [
        {
          "output_type": "stream",
          "name": "stdout",
          "text": [
            "\u001b[1m============================= test session starts ==============================\u001b[0m\n",
            "platform linux -- Python 3.7.12, pytest-3.6.4, py-1.11.0, pluggy-0.7.1\n",
            "rootdir: /content, inifile:\n",
            "plugins: typeguard-2.7.1\n",
            "\u001b[1m\rcollecting 0 items                                                             \u001b[0m\u001b[1m\rcollecting 3 items                                                             \u001b[0m\u001b[1m\rcollected 3 items                                                              \u001b[0m\n",
            "\n",
            "test_rectangulo.py ...\u001b[36m                                                   [100%]\u001b[0m\n",
            "\n",
            "\u001b[32m\u001b[1m=========================== 3 passed in 0.01 seconds ===========================\u001b[0m\n"
          ]
        }
      ]
    },
    {
      "cell_type": "markdown",
      "source": [
        "Ahora la prueba nos presenta el mensaje: \n",
        "```\n",
        "test_rectangulo.py ...                                                   [100%]\n",
        "\n",
        "=========================== 3 passed in 0.01 seconds ===========================\n",
        "\n",
        "```\n",
        "¡Tanto los tres puntos `...`, como el mensaje entre los iguales, nos indica que las 3 pruebas se ejecutaron exitosamente!"
      ],
      "metadata": {
        "id": "bUBuwjjb0d7x"
      }
    }
  ]
}